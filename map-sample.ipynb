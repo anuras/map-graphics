{
 "cells": [
  {
   "cell_type": "code",
   "execution_count": 2,
   "metadata": {},
   "outputs": [],
   "source": [
    "from utilities import *\n",
    "\n",
    "xml_file = \"/home/arunas/maps/workdir/xml_templates/generated_templates/dk/Accesible-beige/colored_template.xml\"\n",
    "map_width = 800\n",
    "map_height = 800\n",
    "mmap = loadMap(xml_file, map_width, map_height)\n",
    "\n",
    "west = 12.4854515846154\n",
    "south = 55.6267061807692\n",
    "east = 12.7017948153846\n",
    "north = 55.7188887192308\n",
    "\n",
    "output_file = \"copenhagen-sample.png\"\n",
    "output_file2 = \"copenhagen-sample-adj.png\"\n"
   ]
  },
  {
   "cell_type": "code",
   "execution_count": 15,
   "metadata": {},
   "outputs": [
    {
     "name": "stdout",
     "output_type": "stream",
     "text": [
      "('North, new: ', 55.7188887192308, 55.7188887192308)\n",
      "('West, new: ', 12.4854515846154, 12.511967983312731)\n",
      "('South, new: ', 55.6267061807692, 55.6267061807692)\n",
      "('East, new: ', 12.7017948153846, 12.675278416687268)\n"
     ]
    }
   ],
   "source": [
    "import geopy.distance\n",
    "\n",
    "def fitToSize(w, s, e, n, width, height):\n",
    "    coords_1 = (n, w)\n",
    "    coords_2 = (s, w)\n",
    "    coords_3 = (n, e)\n",
    "\n",
    "    ns = geopy.distance.distance(coords_1, coords_2).km\n",
    "    ew = geopy.distance.distance(coords_1, coords_3).km\n",
    "    if ((float(height)/float(width)) > (ns/ew)):\n",
    "        new_length = (e - w) * (ns/ew) * (float(width)/float(height))\n",
    "        center = (e + w)/2.0\n",
    "        w = center - (new_length/2.0)\n",
    "        e = center + (new_length/2.0)\n",
    "    else:\n",
    "        new_length = (n - s) * (ew/ns) * (float(height)/float(width))\n",
    "        center = (n + s)/2.0\n",
    "        n = center + (new_length/2)\n",
    "        s = center - (new_length/2)\n",
    "    return w, s, e, n\n",
    "\n",
    "new_w, new_s, new_e, new_n = fitToSize(west, south, east, north, map_width, map_height)\n",
    "\n",
    "print(\"North, new: \", north, new_n)\n",
    "print(\"West, new: \", west, new_w)\n",
    "print(\"South, new: \", south, new_s)\n",
    "print(\"East, new: \", east, new_e)\n"
   ]
  },
  {
   "cell_type": "code",
   "execution_count": 16,
   "metadata": {},
   "outputs": [],
   "source": [
    "mmap2 = mmap\n",
    "renderBox(mmap, output_file, north, east, south, west)\n",
    "renderBox(mmap2, output_file2, new_n, new_e, new_s, new_w)"
   ]
  },
  {
   "cell_type": "code",
   "execution_count": 1,
   "metadata": {},
   "outputs": [],
   "source": [
    "import geopy"
   ]
  },
  {
   "cell_type": "code",
   "execution_count": null,
   "metadata": {},
   "outputs": [],
   "source": []
  }
 ],
 "metadata": {
  "kernelspec": {
   "display_name": "Python 2",
   "language": "python",
   "name": "python2"
  },
  "language_info": {
   "codemirror_mode": {
    "name": "ipython",
    "version": 2
   },
   "file_extension": ".py",
   "mimetype": "text/x-python",
   "name": "python",
   "nbconvert_exporter": "python",
   "pygments_lexer": "ipython2",
   "version": "2.7.6"
  }
 },
 "nbformat": 4,
 "nbformat_minor": 2
}
