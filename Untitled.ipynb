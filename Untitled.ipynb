{
 "cells": [
  {
   "cell_type": "code",
   "execution_count": 1,
   "metadata": {},
   "outputs": [],
   "source": [
    "import mapnik"
   ]
  },
  {
   "cell_type": "code",
   "execution_count": 10,
   "metadata": {},
   "outputs": [],
   "source": [
    "m = mapnik.Map(1200,600)\n",
    "m.background = mapnik.Color('white')\n",
    "s = mapnik.Style()\n",
    "r = mapnik.Rule()\n",
    "polygon_symbolizer = mapnik.PolygonSymbolizer()\n",
    "polygon_symbolizer.fill = mapnik.Color('#f2eff9')\n",
    "r.symbols.append(polygon_symbolizer)"
   ]
  },
  {
   "cell_type": "code",
   "execution_count": 11,
   "metadata": {},
   "outputs": [],
   "source": [
    "line_symbolizer = mapnik.LineSymbolizer()\n",
    "line_symbolizer.stroke = mapnik.Color('rgb(50%,50%,50%)')\n",
    "line_symbolizer.stroke_width = 0.1"
   ]
  },
  {
   "cell_type": "code",
   "execution_count": 12,
   "metadata": {},
   "outputs": [],
   "source": [
    "inputfile = \"lithuania-latest-free.shp/gis_osm_roads_free_1.shp\"\n",
    "r.symbols.append(line_symbolizer)\n",
    "s.rules.append(r)\n",
    "m.append_style('My Style',s)\n",
    "ds = mapnik.Shapefile(file=inputfile)\n",
    "layer = mapnik.Layer('world')\n",
    "layer.datasource = ds\n",
    "layer.styles.append('My Style')\n",
    "m.layers.append(layer)\n",
    "m.zoom_all()\n",
    "mapnik.render_to_file(m,'lithuania.png', 'png')\n"
   ]
  },
  {
   "cell_type": "code",
   "execution_count": 3,
   "metadata": {},
   "outputs": [
    {
     "name": "stderr",
     "output_type": "stream",
     "text": [
      "/usr/local/lib/python2.7/dist-packages/ipykernel/__main__.py:4: DeprecationWarning: 'Envelope' is deprecated and will be removed in Mapnik 3.x, use 'Box2d' instead\n"
     ]
    }
   ],
   "source": [
    "mapfile = \"world_population.xml\"\n",
    "m = mapnik.Map(1400, 600)\n",
    "mapnik.load_map(m, mapfile)\n",
    "bbox = mapnik.Envelope(mapnik.Coord(-180.0, -75.0), mapnik.Coord(180.0, 90.0))\n",
    "m.zoom_to_box(bbox) \n",
    "mapnik.render_to_file(m, 'world_population.png', 'png')\n"
   ]
  },
  {
   "cell_type": "code",
   "execution_count": 12,
   "metadata": {},
   "outputs": [],
   "source": [
    "mapfile = \"lithuania_sample.xml\"\n",
    "m = mapnik.Map(1000, 800)\n",
    "mapnik.load_map(m, mapfile)\n",
    "# bbox = mapnik.Box2d(mapnik.Coord(53.820675, 20.346817), mapnik.Coord(56.4357650, 26.885976))\n",
    "bbox = mapnik.Box2d(20.346817, 53.820675, 26.885976, 56.4357650)\n",
    "vilnius = mapnik.Box2d(25.182365, 54.648977, 25.354932, 54.723072)\n",
    "m.zoom_to_box(bbox)\n",
    "mapnik.render_to_file(m, 'lithuania_sample.png', 'png')\n",
    "m.zoom_to_box(vilnius)\n",
    "mapnik.render_to_file(m, 'lithuania_sample_vilnius.png', 'png')\n",
    "kaunas = mapnik.Box2d(23.75353, 54.82074, 24.10038, 54.95975)\n",
    "m.zoom_to_box(kaunas)\n",
    "mapnik.render_to_file(m, 'lithuania_sample_kaunas.png', 'png')\n",
    "\n",
    "klaipeda = mapnik.Box2d(21.07526, 55.61274, 21.24109, 55.79657)\n",
    "m.zoom_to_box(klaipeda)\n",
    "mapnik.render_to_file(m, 'lithuania_sample_klaipeda.png', 'png')"
   ]
  },
  {
   "cell_type": "code",
   "execution_count": 2,
   "metadata": {},
   "outputs": [
    {
     "data": {
      "text/plain": [
       "<osgeo.ogr.Layer; proxy of <Swig Object of type 'OGRLayerShadow *' at 0x7fac5013d9f0> >"
      ]
     },
     "execution_count": 2,
     "metadata": {},
     "output_type": "execute_result"
    }
   ],
   "source": [
    "input_layer"
   ]
  },
  {
   "cell_type": "code",
   "execution_count": 9,
   "metadata": {},
   "outputs": [],
   "source": [
    "mapfile = \"podlaskie_sample.xml\"\n",
    "m = mapnik.Map(800, 800)\n",
    "mapnik.load_map(m, mapfile)\n",
    "# bbox = mapnik.Box2d(mapnik.Coord(53.820675, 20.346817), mapnik.Coord(56.4357650, 26.885976))\n",
    "punskas = mapnik.Box2d(23.165724, 54.243577, 23.196767, 54.256647)\n",
    "m.zoom_to_box(punskas)\n",
    "mapnik.render_to_file(m, 'punskas_sample.png', 'png')\n"
   ]
  },
  {
   "cell_type": "code",
   "execution_count": null,
   "metadata": {},
   "outputs": [],
   "source": []
  }
 ],
 "metadata": {
  "kernelspec": {
   "display_name": "Python 2",
   "language": "python",
   "name": "python2"
  },
  "language_info": {
   "codemirror_mode": {
    "name": "ipython",
    "version": 2
   },
   "file_extension": ".py",
   "mimetype": "text/x-python",
   "name": "python",
   "nbconvert_exporter": "python",
   "pygments_lexer": "ipython2",
   "version": "2.7.6"
  }
 },
 "nbformat": 4,
 "nbformat_minor": 2
}
