{
 "cells": [
  {
   "cell_type": "code",
   "execution_count": 9,
   "metadata": {},
   "outputs": [],
   "source": [
    "from PIL import Image\n",
    "from PIL import ImageFont\n",
    "from PIL import ImageDraw \n",
    "\n",
    "import numpy as np\n",
    "import textwrap"
   ]
  },
  {
   "cell_type": "code",
   "execution_count": 67,
   "metadata": {},
   "outputs": [],
   "source": [
    "im = Image.open(\"lithuania_sample_vilnius.png\")\n"
   ]
  },
  {
   "cell_type": "code",
   "execution_count": 69,
   "metadata": {},
   "outputs": [
    {
     "name": "stdout",
     "output_type": "stream",
     "text": [
      "('PNG', (1000, 800), 'RGBA')\n"
     ]
    },
    {
     "data": {
      "text/plain": [
       "1000"
      ]
     },
     "execution_count": 69,
     "metadata": {},
     "output_type": "execute_result"
    }
   ],
   "source": [
    "print(im.format, im.size, im.mode)\n",
    "im.show()\n",
    "im.size[0]"
   ]
  },
  {
   "cell_type": "code",
   "execution_count": 72,
   "metadata": {},
   "outputs": [],
   "source": [
    "txt = Image.new('RGBA', im.size, (255,255,255,0))\n",
    "\n",
    "# get a font\n",
    "fnt = ImageFont.truetype('/usr/share/fonts/truetype/freefont/FreeMono.ttf', 40)\n",
    "# get a drawing context\n",
    "d = ImageDraw.Draw(txt)\n",
    "\n",
    "# draw text, full opacity\n",
    "d.text((im.size[0]/2 - 50,im.size[1] - 50), \"VILNIUS\", font=fnt, fill=(255,255,255,255))\n",
    "\n",
    "out = Image.alpha_composite(im, txt)\n",
    "\n",
    "out.show()\n"
   ]
  },
  {
   "cell_type": "code",
   "execution_count": 70,
   "metadata": {},
   "outputs": [
    {
     "name": "stdout",
     "output_type": "stream",
     "text": [
      "(163, 0, 60, 255)\n",
      "(163, 0, 60, 255)\n"
     ]
    }
   ],
   "source": [
    "px = im.load()\n",
    "print (px[im.size[0]-1,im.size[1]-1])\n",
    "print (px[im.size[0]-1,im.size[1]-4])\n",
    "\n",
    "def fader(source_color, target_color, percent):\n",
    "    '''assumes color is rgb between (0, 0, 0) and (255, 255, 255)'''\n",
    "    color = np.array(source_color)\n",
    "    target = np.array(target_color)\n",
    "    vector = target-color\n",
    "    new_color = color + vector * percent\n",
    "    return new_color.astype(int)"
   ]
  },
  {
   "cell_type": "code",
   "execution_count": 71,
   "metadata": {},
   "outputs": [],
   "source": [
    "target_color = px[im.size[0]-1,im.size[1]-1]\n",
    "for y in range(im.size[1] - 100, im.size[1]):\n",
    "    for x in range(im.size[0]):\n",
    "        source_color = px[x,y]\n",
    "        new_color = fader(source_color, target_color, (y - im.size[1] + 100)/100.0)\n",
    "        px[x,y] = tuple(new_color)"
   ]
  },
  {
   "cell_type": "code",
   "execution_count": 48,
   "metadata": {},
   "outputs": [],
   "source": [
    "y = 551\n",
    "x = 0\n",
    "px[x,y]\n",
    "target_color\n",
    "new_color = fader(px[x,y], target_color, (599 - y)/50.0)\n",
    "px[x,y] = tuple(new_color)"
   ]
  },
  {
   "cell_type": "code",
   "execution_count": 73,
   "metadata": {},
   "outputs": [],
   "source": [
    "# cropped = out.crop([300,0,1099,599])\n",
    "out.save(\"lithuania_sample_vilnius_labeled.png\", \"PNG\")"
   ]
  },
  {
   "cell_type": "code",
   "execution_count": 16,
   "metadata": {},
   "outputs": [],
   "source": [
    "\n",
    "def fader(source_color, target_color, percent):\n",
    "    '''assumes color is rgb between (0, 0, 0) and (255, 255, 255)'''\n",
    "    color = np.array(source_color)\n",
    "    target = np.array(target_color)\n",
    "    vector = target-color\n",
    "    new_color = color + vector * percent\n",
    "    return new_color.astype(int)\n",
    "\n",
    "def fade_image(im, px, target_color, faded_height = 100):\n",
    "    if (im.size[1] > faded_height):\n",
    "        for y in range(im.size[1] - faded_height, im.size[1]):\n",
    "            for x in range(im.size[0]):\n",
    "                source_color = px[x,y]\n",
    "                new_color = fader(source_color, target_color, (y - im.size[1] + faded_height)/float(faded_height))\n",
    "                px[x,y] = tuple(new_color)\n",
    "\n",
    "FONT = '/usr/share/fonts/truetype/freefont/FreeMono.ttf'\n",
    "FONT = '/usr/share/fonts/truetype/msttcorefonts/Arial.ttf'\n",
    "\n",
    "def add_label(png_path, label, output_file, output_file_type = \"PNG\", faded_height = 100, font_size = 40, font_pad = 10, font = FONT):\n",
    "    im = Image.open(png_path)\n",
    "    px = im.load()\n",
    "    target_color = px[im.size[0]-1,im.size[1]-1] #fix this (pass as parameter?)\n",
    "    fade_image(im, px, target_color)\n",
    "    \n",
    "    wrap_label = textwrap.wrap(label, width = int(im.size[0] * 0.75))\n",
    "    txt = Image.new('RGBA', im.size, (255,255,255,0))\n",
    "    fnt = ImageFont.truetype(font, font_size)\n",
    "    draw = ImageDraw.Draw(txt)\n",
    "    current_h = im.size[1] - ((font_size + font_pad) * len(wrap_label))\n",
    "    for line in wrap_label:\n",
    "        w, h = fnt.getsize(line)\n",
    "        draw.text(((im.size[0] - w) / 2, current_h), line, font=fnt)\n",
    "        current_h += font_size + font_pad\n",
    "    out = Image.alpha_composite(im, txt)\n",
    "    out.save(output_file, output_file_type)"
   ]
  },
  {
   "cell_type": "code",
   "execution_count": 17,
   "metadata": {},
   "outputs": [],
   "source": [
    "input_file = \"lithuania_sample_vilnius.png\"\n",
    "label = \"VILNIUS\"\n",
    "output_file = \"lithuania_sample_vilnius_labeled2.png\"\n",
    "add_label(input_file, label, output_file)"
   ]
  },
  {
   "cell_type": "code",
   "execution_count": 13,
   "metadata": {},
   "outputs": [
    {
     "data": {
      "text/plain": [
       "(125, 29)"
      ]
     },
     "execution_count": 13,
     "metadata": {},
     "output_type": "execute_result"
    }
   ],
   "source": [
    "FONT = '/usr/share/fonts/truetype/msttcorefonts/Arial.ttf'\n",
    "fnt = ImageFont.truetype(FONT, 40)\n",
    "fnt.getsize(\"LABEL\")"
   ]
  },
  {
   "cell_type": "code",
   "execution_count": 22,
   "metadata": {},
   "outputs": [
    {
     "data": {
      "text/plain": [
       "227"
      ]
     },
     "execution_count": 22,
     "metadata": {},
     "output_type": "execute_result"
    }
   ],
   "source": [
    "from PIL import ImageColor\n",
    "\n",
    "x = ImageColor.getrgb(\"#e34a33\")\n",
    "x[0]"
   ]
  },
  {
   "cell_type": "code",
   "execution_count": 23,
   "metadata": {},
   "outputs": [
    {
     "data": {
      "text/plain": [
       "(227, 74, 51)"
      ]
     },
     "execution_count": 23,
     "metadata": {},
     "output_type": "execute_result"
    }
   ],
   "source": [
    "x"
   ]
  }
 ],
 "metadata": {
  "kernelspec": {
   "display_name": "Python 2",
   "language": "python",
   "name": "python2"
  },
  "language_info": {
   "codemirror_mode": {
    "name": "ipython",
    "version": 2
   },
   "file_extension": ".py",
   "mimetype": "text/x-python",
   "name": "python",
   "nbconvert_exporter": "python",
   "pygments_lexer": "ipython2",
   "version": "2.7.6"
  }
 },
 "nbformat": 4,
 "nbformat_minor": 2
}
